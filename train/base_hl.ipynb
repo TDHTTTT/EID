{
 "cells": [
  {
   "cell_type": "code",
   "execution_count": 1,
   "metadata": {},
   "outputs": [
    {
     "name": "stderr",
     "output_type": "stream",
     "text": [
      "Using TensorFlow backend.\n"
     ]
    }
   ],
   "source": [
    "import h5py\n",
    "import numpy as np\n",
    "import keras\n",
    "from keras.engine.topology import Layer, InputSpec\n",
    "from keras.layers import Input, Dense, Activation, Conv2D, MaxPooling2D, Flatten, Reshape, UpSampling2D\n",
    "from keras.models import Model\n",
    "from keras import backend as K\n",
    "from keras.utils import multi_gpu_model\n",
    "import matplotlib.pyplot as plt\n",
    "%matplotlib inline\n",
    "import random\n",
    "from scipy.special import expit\n",
    "from sklearn.metrics import roc_curve, auc\n",
    "from sklearn.model_selection import train_test_split\n",
    "from keras.utils import multi_gpu_model\n",
    "import tensorflow as tf"
   ]
  },
  {
   "cell_type": "code",
   "execution_count": 2,
   "metadata": {},
   "outputs": [
    {
     "name": "stdout",
     "output_type": "stream",
     "text": [
      "_________________________________________________________________\n",
      "Layer (type)                 Output Shape              Param #   \n",
      "=================================================================\n",
      "input_1 (InputLayer)         (None, 7)                 0         \n",
      "_________________________________________________________________\n",
      "dense_1 (Dense)              (None, 200)               1600      \n",
      "_________________________________________________________________\n",
      "dense_2 (Dense)              (None, 200)               40200     \n",
      "_________________________________________________________________\n",
      "dense_3 (Dense)              (None, 200)               40200     \n",
      "_________________________________________________________________\n",
      "dense_4 (Dense)              (None, 1)                 201       \n",
      "=================================================================\n",
      "Total params: 82,201\n",
      "Trainable params: 82,201\n",
      "Non-trainable params: 0\n",
      "_________________________________________________________________\n"
     ]
    }
   ],
   "source": [
    "input_hl=Input(shape= (7,))\n",
    "layer=input_hl\n",
    "layer=Dense(200,activation='relu')(layer)\n",
    "layer=Dense(200,activation='relu')(layer)\n",
    "layer=Dense(200,activation='relu')(layer)\n",
    "layer=Dense(1, activation='sigmoid')(layer)\n",
    "\n",
    "model=Model(input_hl ,layer)\n",
    "model.compile(loss=keras.losses.binary_crossentropy, optimizer=keras.optimizers.Adam())\n",
    "model.summary()\n",
    "#model.load_weights(\".h5\")\n",
    "model.save_weights('hlbase.h5')"
   ]
  },
  {
   "cell_type": "code",
   "execution_count": 70,
   "metadata": {},
   "outputs": [],
   "source": [
    "# Not all NN model can benefit from the keras parallel (https://github.com/keras-team/keras/issues/9204)\n",
    "\n",
    "GPU = 2\n",
    "if GPU > 1:\n",
    "    # Multi-GPU \n",
    "    parallel_model = multi_gpu_model(model, gpus=2)\n",
    "    parallel_model.compile(loss=keras.losses.binary_crossentropy, optimizer=keras.optimizers.Adam())\n",
    "    parallel_model.save_weights('parallel_hlbase.h5')"
   ]
  },
  {
   "cell_type": "code",
   "execution_count": 30,
   "metadata": {},
   "outputs": [
    {
     "name": "stdout",
     "output_type": "stream",
     "text": [
      "(118371, 7) (118371, 7)\n"
     ]
    }
   ],
   "source": [
    "bg = np.genfromtxt('C:/Users/tdhttt/workspace/hep/EID/output/csv/HL/HLVar.csv',delimiter=',')\n",
    "sig = np.genfromtxt('C:/Users/tdhttt/workspace/hep/EID/output/csv/HL/HLVarr.csv',delimiter=',')\n",
    "print(bg.shape, sig.shape)"
   ]
  },
  {
   "cell_type": "code",
   "execution_count": 33,
   "metadata": {},
   "outputs": [
    {
     "name": "stdout",
     "output_type": "stream",
     "text": [
      "(118371, 7) (118371, 7) (236742, 7)\n",
      "(236742,)\n",
      "[ 0.      0.      1.      1.      0.     47.2747 47.2747] 1.0\n"
     ]
    }
   ],
   "source": [
    "x = np.concatenate((bg,sig))\n",
    "print(bg.shape,sig.shape,x.shape)\n",
    "y = np.concatenate((np.zeros(bg.shape[0]),np.ones(sig.shape[0])))\n",
    "print(y.shape)\n",
    "print(x[119002],y[119002])"
   ]
  },
  {
   "cell_type": "code",
   "execution_count": 34,
   "metadata": {},
   "outputs": [],
   "source": [
    "# Splitting train & validation & test\n",
    "# train & validation is used for telling overfitting\n",
    "# test is used for evaluating the model (AUC)\n",
    "x_tr, x_te, y_tr, y_te = train_test_split(x, y, test_size=0.20, random_state=42)\n",
    "x_tr, x_val, y_tr, y_val = train_test_split(x_tr, y_tr, test_size=0.20, random_state=42)"
   ]
  },
  {
   "cell_type": "code",
   "execution_count": 35,
   "metadata": {},
   "outputs": [
    {
     "name": "stdout",
     "output_type": "stream",
     "text": [
      "(151514, 7)\n",
      "(37879, 7)\n",
      "(47349, 7)\n",
      "(151514,)\n",
      "(37879,)\n",
      "(47349,)\n"
     ]
    }
   ],
   "source": [
    "# Final check for the shape\n",
    "def printShape(x):\n",
    "    for i in x:\n",
    "        print(i.shape)\n",
    "\n",
    "printShape((x_tr, x_val, x_te, y_tr, y_val, y_te)) "
   ]
  },
  {
   "cell_type": "code",
   "execution_count": 19,
   "metadata": {},
   "outputs": [],
   "source": [
    "def plot_al(history,aorl,t):\n",
    "    plt.plot(history.history[aorl])\n",
    "    plt.plot(history.history['val_'+aorl])\n",
    "    plt.title(t + (\" Accuracy\" if aorl==\"acc\" else \" Loss\"))\n",
    "    plt.ylabel(aorl)\n",
    "    plt.xlabel('epoch')\n",
    "    plt.legend(['train', 'test'], loc='upper left')\n",
    "    plt.show()\n",
    "    \n",
    "def roc(true,pred,t):\n",
    "    fpr = dict()\n",
    "    tpr = dict()\n",
    "    roc_auc = dict()\n",
    "    for i in range(2):\n",
    "        fpr[i], tpr[i], _ = roc_curve(true, pred)\n",
    "        roc_auc[i] = auc(fpr[i], tpr[i])\n",
    "        \n",
    "    print(roc_auc)\n",
    "    plt.figure()\n",
    "    plt.plot(fpr[1], tpr[1])\n",
    "    plt.xlim([0.0, 1.0])\n",
    "    plt.ylim([0.0, 1.05])\n",
    "    plt.xlabel('False Positive Rate')\n",
    "    plt.ylabel('True Positive Rate')\n",
    "    plt.title(t + ' ROC')\n",
    "    plt.savefig(t+str(roc_auc[0])+\".png\")\n",
    "    plt.show()\n",
    "    \n",
    "    \n",
    "callbacks = [keras.callbacks.EarlyStopping(monitor='val_loss', min_delta=0, \n",
    "                                           patience=10, verbose=0,\n",
    "                                           mode='auto', baseline=None,\n",
    "                                           restore_best_weights=True)]"
   ]
  },
  {
   "cell_type": "code",
   "execution_count": 28,
   "metadata": {},
   "outputs": [],
   "source": [
    "def run_model(model,x_tr,y_tr,x_val,y_val,p=False,epochs=20,batch=128):\n",
    "    model.load_weights(('parallel_' if p else '') + 'hlbase.h5')\n",
    "    history = model.fit(x_tr, y_tr, epochs=epochs, batch_size=128, \n",
    "                    validation_data=(x_val,y_val),verbose=1,\n",
    "                    callbacks=callbacks)\n",
    "    model.save_weights(('parallel_' if p else '') +'hlbase_'+'_{}e_{}b.h5'.format(epochs,batch))\n",
    "    plot_al(history, 'loss', 'HL')\n",
    "    y_hat = model.predict(x_te)\n",
    "    y_hat = np.reshape(y_hat,(y_hat.shape[0]))\n",
    "    roc(y_te, y_hat, 'HL')"
   ]
  },
  {
   "cell_type": "code",
   "execution_count": null,
   "metadata": {},
   "outputs": [
    {
     "name": "stdout",
     "output_type": "stream",
     "text": [
      "Train on 151514 samples, validate on 37879 samples\n",
      "Epoch 1/20\n",
      "151514/151514 [==============================] - 5s 30us/step - loss: 0.6962 - val_loss: 0.6932\n",
      "Epoch 2/20\n",
      "151514/151514 [==============================] - 4s 29us/step - loss: 0.6932 - val_loss: 0.6931\n",
      "Epoch 3/20\n",
      "151514/151514 [==============================] - 4s 30us/step - loss: 0.6932 - val_loss: 0.6931\n",
      "Epoch 4/20\n",
      " 81536/151514 [===============>..............] - ETA: 2s - loss: 0.6932"
     ]
    }
   ],
   "source": [
    "run_model(model,x_tr,y_tr,x_val,y_val,p=False,epochs=20,batch=128)"
   ]
  },
  {
   "cell_type": "code",
   "execution_count": null,
   "metadata": {},
   "outputs": [],
   "source": []
  }
 ],
 "metadata": {
  "kernelspec": {
   "display_name": "Python 3",
   "language": "python",
   "name": "python3"
  },
  "language_info": {
   "codemirror_mode": {
    "name": "ipython",
    "version": 3
   },
   "file_extension": ".py",
   "mimetype": "text/x-python",
   "name": "python",
   "nbconvert_exporter": "python",
   "pygments_lexer": "ipython3",
   "version": "3.6.8"
  }
 },
 "nbformat": 4,
 "nbformat_minor": 2
}
