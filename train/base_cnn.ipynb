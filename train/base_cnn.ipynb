{
 "cells": [
  {
   "cell_type": "code",
   "execution_count": 51,
   "metadata": {},
   "outputs": [],
   "source": [
    "import h5py\n",
    "import numpy as np\n",
    "import keras\n",
    "from keras.engine.topology import Layer, InputSpec\n",
    "from keras.layers import Input, Dense, Activation, Conv2D, MaxPooling2D, Flatten, Reshape, UpSampling2D\n",
    "from keras.models import Model\n",
    "from keras import backend as K\n",
    "import matplotlib.pyplot as plt\n",
    "%matplotlib inline\n",
    "import random\n",
    "from scipy.special import expit\n",
    "from sklearn.metrics import roc_curve, auc\n",
    "from sklearn.model_selection import train_test_split\n",
    "from keras.utils import multi_gpu_model\n",
    "import tensorflow as tf"
   ]
  },
  {
   "cell_type": "code",
   "execution_count": 3,
   "metadata": {},
   "outputs": [
    {
     "name": "stdout",
     "output_type": "stream",
     "text": [
      "_________________________________________________________________\n",
      "Layer (type)                 Output Shape              Param #   \n",
      "=================================================================\n",
      "input_2 (InputLayer)         (None, 40, 40, 1)         0         \n",
      "_________________________________________________________________\n",
      "conv2d_4 (Conv2D)            (None, 40, 40, 128)       1280      \n",
      "_________________________________________________________________\n",
      "max_pooling2d_3 (MaxPooling2 (None, 20, 20, 128)       0         \n",
      "_________________________________________________________________\n",
      "conv2d_5 (Conv2D)            (None, 20, 20, 128)       147584    \n",
      "_________________________________________________________________\n",
      "max_pooling2d_4 (MaxPooling2 (None, 10, 10, 128)       0         \n",
      "_________________________________________________________________\n",
      "conv2d_6 (Conv2D)            (None, 10, 10, 128)       147584    \n",
      "_________________________________________________________________\n",
      "flatten_2 (Flatten)          (None, 12800)             0         \n",
      "_________________________________________________________________\n",
      "dense_4 (Dense)              (None, 32)                409632    \n",
      "_________________________________________________________________\n",
      "dense_5 (Dense)              (None, 6)                 198       \n",
      "_________________________________________________________________\n",
      "dense_6 (Dense)              (None, 1)                 7         \n",
      "=================================================================\n",
      "Total params: 706,285\n",
      "Trainable params: 706,285\n",
      "Non-trainable params: 0\n",
      "_________________________________________________________________\n"
     ]
    }
   ],
   "source": [
    "input_img=Input(shape= (40, 40, 1))\n",
    "layer=input_img\n",
    "layer=Conv2D(128, kernel_size=(3, 3),activation='relu',padding='same')(layer)\n",
    "layer=MaxPooling2D(pool_size=(2, 2),padding='same')(layer)\n",
    "layer=Conv2D(128, kernel_size=(3, 3), activation='relu',padding='same')(layer)\n",
    "layer=MaxPooling2D(pool_size=(2, 2),padding='same')(layer)\n",
    "layer=Conv2D(128, kernel_size=(3, 3), activation='relu',padding='same')(layer)\n",
    "layer=Flatten()(layer)\n",
    "layer=Dense(32, activation='relu')(layer)\n",
    "layer=Dense(6)(layer)\n",
    "layer=Dense(1)(layer)\n",
    "\n",
    "model=Model(input_img ,layer)\n",
    "model.compile(loss=keras.losses.mean_squared_error, optimizer=keras.optimizers.Adam())\n",
    "model.summary()\n",
    "#model.load_weights(\".h5\")\n",
    "model.save_weights('cnnbase.h5')"
   ]
  },
  {
   "cell_type": "code",
   "execution_count": 49,
   "metadata": {},
   "outputs": [
    {
     "name": "stdout",
     "output_type": "stream",
     "text": [
      "(236740, 31, 31)\n",
      "(236740, 31, 31)\n",
      "(236740, 32, 32)\n",
      "(236740, 32, 32)\n"
     ]
    }
   ],
   "source": [
    "f = h5py.File('/pub/daohangt/hep/data/all_118370.h5','r')\n",
    "ee_x = f['features']['Ecal_E'][:]\n",
    "et_x = f['features']['Ecal_ET'][:]\n",
    "he_x = f['features']['Hcal_E'][:]\n",
    "ht_x = f['features']['Hcal_ET'][:]\n",
    "print(ee_x.shape)\n",
    "print(et_x.shape)\n",
    "print(he_x.shape)\n",
    "print(ht_x.shape)"
   ]
  },
  {
   "cell_type": "code",
   "execution_count": 7,
   "metadata": {
    "scrolled": true
   },
   "outputs": [
    {
     "name": "stdout",
     "output_type": "stream",
     "text": [
      "(236740,)\n",
      "(236740,)\n",
      "(236740,)\n",
      "(236740,)\n"
     ]
    }
   ],
   "source": [
    "ee_y = f['targets']['Ecal_E'][:]\n",
    "et_y = f['targets']['Ecal_ET'][:]\n",
    "he_y = f['targets']['Hcal_E'][:]\n",
    "ht_y = f['targets']['Hcal_ET'][:]\n",
    "print(ee_y.shape)\n",
    "print(et_y.shape)\n",
    "print(he_y.shape)\n",
    "print(ht_y.shape)"
   ]
  },
  {
   "cell_type": "code",
   "execution_count": 37,
   "metadata": {},
   "outputs": [],
   "source": [
    "# Separate bg/sig for visualizing the jet images\n",
    "ee_i_bg, ee_i_sig = np.where(ee_y == 0)[0], np.where(ee_y == 1)[0]\n",
    "ee_x_bg = ee_x[ee_i_bg]\n",
    "ee_x_sig = ee_x[ee_i_sig]\n",
    "\n",
    "et_i_bg, et_i_sig = np.where(et_y == 0)[0], np.where(et_y == 1)[0]\n",
    "et_x_bg = et_x[et_i_bg]\n",
    "et_x_sig = et_x[et_i_sig]\n",
    "\n",
    "he_i_bg, he_i_sig = np.where(he_y == 0)[0], np.where(he_y == 1)[0]\n",
    "he_x_bg = he_x[he_i_bg]\n",
    "he_x_sig = he_x[he_i_sig]\n",
    "\n",
    "ht_i_bg, ht_i_sig = np.where(ht_y == 0)[0], np.where(ht_y == 1)[0]\n",
    "ht_x_bg = ht_x[ht_i_bg]\n",
    "ht_x_sig = ht_x[ht_i_sig]"
   ]
  },
  {
   "cell_type": "code",
   "execution_count": 35,
   "metadata": {},
   "outputs": [],
   "source": [
    "# Visualize the bg and sig jet images\n",
    "def plot2(a,b,vmax,name,ta,tb):\n",
    "    fig = plt.figure(figsize=(10, 10))\n",
    "    row,col=1,2\n",
    "    ax1 = fig.add_subplot(row,col,1)\n",
    "    plt.imshow(a,cmap='Blues',vmin=-10,vmax=vmax)\n",
    "    ax2 = fig.add_subplot(row,col,2)\n",
    "    plt.imshow(b,cmap='Reds',vmin=-10,vmax=vmax)\n",
    "    #plt.show()\n",
    "    ax1.title.set_text(ta)\n",
    "    ax2.title.set_text(tb)\n",
    "    plt.savefig(name)\n",
    "    \n",
    "def plot2_nAgg(s,e,xbg,xsig,vmax,name,ta,tb):\n",
    "    if len(xbg.shape) == 3:\n",
    "        xbgg = np.copy(xbg[0])\n",
    "        xsigg = np.copy(xsig[0])\n",
    "        for i in range(s,e):\n",
    "            xbgg += xbg[i]\n",
    "            xsigg += xsig[i]\n",
    "    else:\n",
    "        xbgg = np.copy(xbg[0][0])\n",
    "        xsigg = np.copy(xsig[0][0])\n",
    "        for i in range(s,e):\n",
    "            xbgg += xbg[i][0]\n",
    "            xsigg += xsig[i][0]\n",
    "    plot2(xbgg,xsigg,vmax,name,ta,tb)"
   ]
  },
  {
   "cell_type": "code",
   "execution_count": 36,
   "metadata": {},
   "outputs": [
    {
     "data": {
      "image/png": "[encoded data removed]",
      "text/plain": [
       "<Figure size 720x720 with 2 Axes>"
      ]
     },
     "metadata": {
      "needs_background": "light"
     },
     "output_type": "display_data"
    }
   ],
   "source": [
    "plot2_nAgg(0,1000,ee_x_bg,ee_x_sig,400,\"ee.png\",'ECal_E (bg)','ECal_E (sig)')"
   ]
  },
  {
   "cell_type": "code",
   "execution_count": 39,
   "metadata": {},
   "outputs": [
    {
     "data": {
      "image/png": "[encoded data removed]",
      "text/plain": [
       "<Figure size 720x720 with 2 Axes>"
      ]
     },
     "metadata": {
      "needs_background": "light"
     },
     "output_type": "display_data"
    }
   ],
   "source": [
    "plot2_nAgg(0,1000,et_x_bg,et_x_sig,400,\"et.png\",'ECal_ET (bg)','ECal_ET (sig)')"
   ]
  },
  {
   "cell_type": "code",
   "execution_count": 44,
   "metadata": {},
   "outputs": [
    {
     "data": {
      "image/png": "[encoded data removed]",
      "text/plain": [
       "<Figure size 720x720 with 2 Axes>"
      ]
     },
     "metadata": {
      "needs_background": "light"
     },
     "output_type": "display_data"
    }
   ],
   "source": [
    "plot2_nAgg(0,1000,he_x_bg,he_x_sig,50,\"he.png\",'HCal_E (bg)','HCal_E (sig)')"
   ]
  },
  {
   "cell_type": "code",
   "execution_count": 45,
   "metadata": {},
   "outputs": [
    {
     "data": {
      "image/png": "[encoded data removed]",
      "text/plain": [
       "<Figure size 720x720 with 2 Axes>"
      ]
     },
     "metadata": {
      "needs_background": "light"
     },
     "output_type": "display_data"
    }
   ],
   "source": [
    "plot2_nAgg(0,1000,ht_x_bg,ht_x_sig,50,\"ht.png\",'HCal_ET (bg)','HCal_ET (sig)')"
   ]
  },
  {
   "cell_type": "code",
   "execution_count": 50,
   "metadata": {},
   "outputs": [
    {
     "name": "stdout",
     "output_type": "stream",
     "text": [
      "Before massaging: \n",
      "(236740, 31, 31)\n",
      "(236740, 31, 31)\n",
      "(236740, 32, 32)\n",
      "(236740, 32, 32)\n",
      "After massaging: \n",
      "(236740, 40, 40, 1)\n",
      "(236740, 40, 40, 1)\n",
      "(236740, 40, 40, 1)\n",
      "(236740, 40, 40, 1)\n"
     ]
    }
   ],
   "source": [
    "print(\"Before massaging: \")\n",
    "print(ee_x.shape)\n",
    "print(et_x.shape)\n",
    "print(he_x.shape)\n",
    "print(ht_x.shape)\n",
    "\n",
    "def pad(x):\n",
    "    if x.shape[-1] == 32:\n",
    "        return np.pad(x,((0,0),(4,4),(4,4)), 'constant')\n",
    "    else:\n",
    "        # 31*31\n",
    "        return np.pad(x,((0,0),(4,5),(4,5)), 'constant')\n",
    "\n",
    "def extra(x):\n",
    "    sz = x.shape+(1,)\n",
    "    x = np.resize(x, tuple(i for i in sz))\n",
    "    return x\n",
    "\n",
    "# Massage the data: padding + extra1\n",
    "ee_x = extra(pad(ee_x))\n",
    "et_x = extra(pad(et_x))\n",
    "he_x = extra(pad(he_x))\n",
    "ht_x = extra(pad(ht_x))\n",
    "\n",
    "print(\"After massaging: \")\n",
    "print(ee_x.shape)\n",
    "print(et_x.shape)\n",
    "print(he_x.shape)\n",
    "print(ht_x.shape)"
   ]
  },
  {
   "cell_type": "code",
   "execution_count": 52,
   "metadata": {},
   "outputs": [],
   "source": [
    "# Splitting train & validation\n",
    "ee_x_tr, ee_x_val, ee_y_tr, ee_y_val = train_test_split(ee_x, ee_y, test_size=0.20, random_state=42)\n",
    "et_x_tr, et_x_val, et_y_tr, et_y_val = train_test_split(et_x, et_y, test_size=0.20, random_state=42)\n",
    "he_x_tr, he_x_val, he_y_tr, he_y_val = train_test_split(he_x, he_y, test_size=0.20, random_state=42)\n",
    "ht_x_tr, ht_x_val, ht_y_tr, ht_y_val = train_test_split(ht_x, ht_y, test_size=0.20, random_state=42)"
   ]
  },
  {
   "cell_type": "code",
   "execution_count": 54,
   "metadata": {},
   "outputs": [
    {
     "name": "stdout",
     "output_type": "stream",
     "text": [
      "(189392, 40, 40, 1)\n",
      "(47348, 40, 40, 1)\n",
      "(189392,)\n",
      "(47348,)\n",
      "(189392, 40, 40, 1)\n",
      "(47348, 40, 40, 1)\n",
      "(189392,)\n",
      "(47348,)\n",
      "(189392, 40, 40, 1)\n",
      "(47348, 40, 40, 1)\n",
      "(189392,)\n",
      "(47348,)\n",
      "(189392, 40, 40, 1)\n",
      "(47348, 40, 40, 1)\n",
      "(189392,)\n",
      "(47348,)\n"
     ]
    }
   ],
   "source": [
    "# Final check for the shape\n",
    "def printShape(x):\n",
    "    for i in x:\n",
    "        print(i.shape)\n",
    "        \n",
    "printShape((ee_x_tr, ee_x_val, ee_y_tr, ee_y_val)) \n",
    "printShape((et_x_tr, et_x_val, et_y_tr, et_y_val))\n",
    "printShape((he_x_tr, he_x_val, he_y_tr, he_y_val))\n",
    "printShape((ht_x_tr, ht_x_val, ht_y_tr, ht_y_val))"
   ]
  },
  {
   "cell_type": "code",
   "execution_count": 55,
   "metadata": {},
   "outputs": [
    {
     "name": "stdout",
     "output_type": "stream",
     "text": [
      "WARNING:tensorflow:From /data/users/daohangt/anaconda3/envs/tf/lib/python3.7/site-packages/tensorflow/python/ops/math_ops.py:3066: to_int32 (from tensorflow.python.ops.math_ops) is deprecated and will be removed in a future version.\n",
      "Instructions for updating:\n",
      "Use tf.cast instead.\n",
      "Train on 189392 samples, validate on 47348 samples\n",
      "Epoch 1/20\n",
      "189392/189392 [==============================] - 36s 193us/step - loss: 0.1274 - val_loss: 0.0235\n",
      "Epoch 2/20\n",
      "189392/189392 [==============================] - 30s 157us/step - loss: 0.0249 - val_loss: 0.0241\n",
      "Epoch 3/20\n",
      "189392/189392 [==============================] - 30s 157us/step - loss: 0.0224 - val_loss: 0.0205\n",
      "Epoch 4/20\n",
      "189392/189392 [==============================] - 30s 157us/step - loss: 0.0206 - val_loss: 0.0200\n",
      "Epoch 5/20\n",
      "189392/189392 [==============================] - 30s 157us/step - loss: 0.0202 - val_loss: 0.0192\n",
      "Epoch 6/20\n",
      "189392/189392 [==============================] - 30s 158us/step - loss: 0.0202 - val_loss: 0.0204\n",
      "Epoch 7/20\n",
      "189392/189392 [==============================] - 30s 158us/step - loss: 0.0196 - val_loss: 0.0204\n",
      "Epoch 8/20\n",
      "189392/189392 [==============================] - 30s 158us/step - loss: 0.0197 - val_loss: 0.0200\n",
      "Epoch 9/20\n",
      "189392/189392 [==============================] - 30s 158us/step - loss: 0.0194 - val_loss: 0.0194\n",
      "Epoch 10/20\n",
      "189392/189392 [==============================] - 30s 158us/step - loss: 0.0193 - val_loss: 0.0191\n",
      "Epoch 11/20\n",
      "189392/189392 [==============================] - 30s 159us/step - loss: 0.0190 - val_loss: 0.0197\n",
      "Epoch 12/20\n",
      "189392/189392 [==============================] - 30s 158us/step - loss: 0.0193 - val_loss: 0.0200\n",
      "Epoch 13/20\n",
      "189392/189392 [==============================] - 30s 159us/step - loss: 0.0189 - val_loss: 0.0194\n",
      "Epoch 14/20\n",
      "189392/189392 [==============================] - 30s 158us/step - loss: 0.0186 - val_loss: 0.0195\n",
      "Epoch 15/20\n",
      "189392/189392 [==============================] - 30s 159us/step - loss: 0.0186 - val_loss: 0.0193\n",
      "Epoch 16/20\n",
      "189392/189392 [==============================] - 30s 159us/step - loss: 0.0181 - val_loss: 0.0192\n",
      "Epoch 17/20\n",
      "189392/189392 [==============================] - 30s 158us/step - loss: 0.0181 - val_loss: 0.0197\n",
      "Epoch 18/20\n",
      "189392/189392 [==============================] - 30s 159us/step - loss: 0.0180 - val_loss: 0.0198\n",
      "Epoch 19/20\n",
      "189392/189392 [==============================] - 30s 158us/step - loss: 0.0178 - val_loss: 0.0197\n",
      "Epoch 20/20\n",
      "189392/189392 [==============================] - 30s 158us/step - loss: 0.0178 - val_loss: 0.0194\n"
     ]
    }
   ],
   "source": [
    "model.load_weights('cnnbase.h5')\n",
    "callbacks = [keras.callbacks.EarlyStopping(monitor='loss', min_delta=0, \n",
    "                                           patience=10, verbose=0,\n",
    "                                           mode='auto', baseline=None,\n",
    "                                           restore_best_weights=True)]\n",
    "\n",
    "history_ee = model.fit(ee_x_tr, ee_y_tr, epochs=20, batch_size=128,\n",
    "                validation_data=(ee_x_val,ee_y_val),verbose=1,\n",
    "                callbacks=callbacks)"
   ]
  },
  {
   "cell_type": "code",
   "execution_count": 56,
   "metadata": {},
   "outputs": [],
   "source": [
    "model.save_weights('cnnbase_ee_20e_128b.h5')"
   ]
  },
  {
   "cell_type": "code",
   "execution_count": 64,
   "metadata": {},
   "outputs": [],
   "source": [
    "def plot_al(history,aorl,t):\n",
    "    plt.plot(history.history[aorl])\n",
    "    plt.plot(history.history['val_'+aorl])\n",
    "    plt.title(t + (\" Accuracy\" if aorl==\"acc\" else \" Loss\"))\n",
    "    plt.ylabel(aorl)\n",
    "    plt.xlabel('epoch')\n",
    "    plt.legend(['train', 'test'], loc='upper left')\n",
    "    plt.show()"
   ]
  },
  {
   "cell_type": "code",
   "execution_count": 65,
   "metadata": {},
   "outputs": [
    {
     "data": {
      "image/png": "[encoded data removed]",
      "text/plain": [
       "<Figure size 432x288 with 1 Axes>"
      ]
     },
     "metadata": {
      "needs_background": "light"
     },
     "output_type": "display_data"
    }
   ],
   "source": [
    "plot_al(history_ee,'loss', 'ECal_E')"
   ]
  },
  {
   "cell_type": "code",
   "execution_count": 66,
   "metadata": {},
   "outputs": [
    {
     "name": "stdout",
     "output_type": "stream",
     "text": [
      "Train on 189392 samples, validate on 47348 samples\n",
      "Epoch 1/20\n",
      "189392/189392 [==============================] - 30s 157us/step - loss: 0.3593 - val_loss: 0.0125\n",
      "Epoch 2/20\n",
      "189392/189392 [==============================] - 30s 157us/step - loss: 0.0121 - val_loss: 0.0120\n",
      "Epoch 3/20\n",
      "189392/189392 [==============================] - 30s 157us/step - loss: 0.0112 - val_loss: 0.0118\n",
      "Epoch 4/20\n",
      "189392/189392 [==============================] - 30s 158us/step - loss: 0.0110 - val_loss: 0.0109\n",
      "Epoch 5/20\n",
      "189392/189392 [==============================] - 30s 158us/step - loss: 0.0109 - val_loss: 0.0108\n",
      "Epoch 6/20\n",
      "189392/189392 [==============================] - 30s 158us/step - loss: 0.0107 - val_loss: 0.0109\n",
      "Epoch 7/20\n",
      "189392/189392 [==============================] - 30s 158us/step - loss: 0.0106 - val_loss: 0.0106\n",
      "Epoch 8/20\n",
      "189392/189392 [==============================] - 30s 158us/step - loss: 0.0106 - val_loss: 0.0104\n",
      "Epoch 9/20\n",
      "189392/189392 [==============================] - 30s 158us/step - loss: 0.0105 - val_loss: 0.0107\n",
      "Epoch 10/20\n",
      "189392/189392 [==============================] - 30s 159us/step - loss: 0.0102 - val_loss: 0.0106\n",
      "Epoch 11/20\n",
      "189392/189392 [==============================] - 30s 158us/step - loss: 0.0103 - val_loss: 0.0106\n",
      "Epoch 12/20\n",
      "189392/189392 [==============================] - 30s 159us/step - loss: 0.0102 - val_loss: 0.0105\n",
      "Epoch 13/20\n",
      "189392/189392 [==============================] - 30s 159us/step - loss: 0.0101 - val_loss: 0.0105\n",
      "Epoch 14/20\n",
      "189392/189392 [==============================] - 30s 158us/step - loss: 0.0102 - val_loss: 0.0124\n",
      "Epoch 15/20\n",
      "189392/189392 [==============================] - 30s 159us/step - loss: 0.0100 - val_loss: 0.0106\n",
      "Epoch 16/20\n",
      "189392/189392 [==============================] - 30s 159us/step - loss: 0.0099 - val_loss: 0.0107\n",
      "Epoch 17/20\n",
      "189392/189392 [==============================] - 30s 159us/step - loss: 0.0099 - val_loss: 0.0108\n",
      "Epoch 18/20\n",
      "189392/189392 [==============================] - 30s 159us/step - loss: 0.0099 - val_loss: 0.0104\n",
      "Epoch 19/20\n",
      "189392/189392 [==============================] - 30s 159us/step - loss: 0.0097 - val_loss: 0.0103\n",
      "Epoch 20/20\n",
      "189392/189392 [==============================] - 30s 159us/step - loss: 0.0097 - val_loss: 0.0107\n"
     ]
    }
   ],
   "source": [
    "model.load_weights('cnnbase.h5')\n",
    "history_et = model.fit(et_x_tr, et_y_tr, epochs=20, batch_size=128,\n",
    "                validation_data=(et_x_val,et_y_val),verbose=1,\n",
    "                callbacks=callbacks)"
   ]
  },
  {
   "cell_type": "code",
   "execution_count": 75,
   "metadata": {},
   "outputs": [
    {
     "data": {
      "image/png": "[encoded data removed]",
      "text/plain": [
       "<Figure size 432x288 with 1 Axes>"
      ]
     },
     "metadata": {
      "needs_background": "light"
     },
     "output_type": "display_data"
    }
   ],
   "source": [
    "plot_al(history_et,'loss', 'ECal_ET')"
   ]
  },
  {
   "cell_type": "code",
   "execution_count": 67,
   "metadata": {},
   "outputs": [],
   "source": [
    "model.save_weights('cnnbase_et_20e_128b.h5')"
   ]
  },
  {
   "cell_type": "code",
   "execution_count": 72,
   "metadata": {},
   "outputs": [
    {
     "name": "stdout",
     "output_type": "stream",
     "text": [
      "Train on 189392 samples, validate on 47348 samples\n",
      "Epoch 1/20\n",
      "189392/189392 [==============================] - 30s 157us/step - loss: 0.1167 - val_loss: 0.1128\n",
      "Epoch 2/20\n",
      "189392/189392 [==============================] - 30s 157us/step - loss: 0.1132 - val_loss: 0.1120\n",
      "Epoch 3/20\n",
      "189392/189392 [==============================] - 30s 158us/step - loss: 0.1129 - val_loss: 0.1121\n",
      "Epoch 4/20\n",
      "189392/189392 [==============================] - 30s 157us/step - loss: 0.1128 - val_loss: 0.1125\n",
      "Epoch 5/20\n",
      "189392/189392 [==============================] - 30s 158us/step - loss: 0.1127 - val_loss: 0.1140\n",
      "Epoch 6/20\n",
      "189392/189392 [==============================] - 30s 158us/step - loss: 0.1125 - val_loss: 0.1121\n",
      "Epoch 7/20\n",
      "189392/189392 [==============================] - 30s 158us/step - loss: 0.1125 - val_loss: 0.1121\n",
      "Epoch 8/20\n",
      "189392/189392 [==============================] - 30s 158us/step - loss: 0.1123 - val_loss: 0.1123\n",
      "Epoch 9/20\n",
      "189392/189392 [==============================] - 30s 158us/step - loss: 0.1122 - val_loss: 0.1119\n",
      "Epoch 10/20\n",
      "189392/189392 [==============================] - 30s 159us/step - loss: 0.1122 - val_loss: 0.1119\n",
      "Epoch 11/20\n",
      "189392/189392 [==============================] - 30s 158us/step - loss: 0.1120 - val_loss: 0.1120\n",
      "Epoch 12/20\n",
      "189392/189392 [==============================] - 30s 158us/step - loss: 0.1120 - val_loss: 0.1117\n",
      "Epoch 13/20\n",
      "189392/189392 [==============================] - 30s 159us/step - loss: 0.1119 - val_loss: 0.1120\n",
      "Epoch 14/20\n",
      "189392/189392 [==============================] - 30s 159us/step - loss: 0.1118 - val_loss: 0.1120\n",
      "Epoch 15/20\n",
      "189392/189392 [==============================] - 30s 158us/step - loss: 0.1118 - val_loss: 0.1121\n",
      "Epoch 16/20\n",
      "189392/189392 [==============================] - 30s 159us/step - loss: 0.1117 - val_loss: 0.1118\n",
      "Epoch 17/20\n",
      "189392/189392 [==============================] - 30s 159us/step - loss: 0.1116 - val_loss: 0.1117\n",
      "Epoch 18/20\n",
      "189392/189392 [==============================] - 30s 159us/step - loss: 0.1115 - val_loss: 0.1120\n",
      "Epoch 19/20\n",
      "189392/189392 [==============================] - 30s 158us/step - loss: 0.1114 - val_loss: 0.1119\n",
      "Epoch 20/20\n",
      "189392/189392 [==============================] - 30s 158us/step - loss: 0.1114 - val_loss: 0.1132\n"
     ]
    }
   ],
   "source": [
    "model.load_weights('cnnbase.h5')\n",
    "history_he = model.fit(he_x_tr, he_y_tr, epochs=20, batch_size=128, \n",
    "                validation_data=(he_x_val,he_y_val),verbose=1,\n",
    "                callbacks=callbacks)\n",
    "model.save_weights('cnnbase_he_20e_128b.h5')"
   ]
  },
  {
   "cell_type": "code",
   "execution_count": 76,
   "metadata": {},
   "outputs": [
    {
     "data": {
      "image/png": "[encoded data removed]",
      "text/plain": [
       "<Figure size 432x288 with 1 Axes>"
      ]
     },
     "metadata": {
      "needs_background": "light"
     },
     "output_type": "display_data"
    }
   ],
   "source": [
    "plot_al(history_he,'loss', 'ECal_E')"
   ]
  },
  {
   "cell_type": "code",
   "execution_count": 73,
   "metadata": {},
   "outputs": [
    {
     "name": "stdout",
     "output_type": "stream",
     "text": [
      "Train on 189392 samples, validate on 47348 samples\n",
      "Epoch 1/20\n",
      "189392/189392 [==============================] - 30s 159us/step - loss: 0.1125 - val_loss: 0.1088\n",
      "Epoch 2/20\n",
      "189392/189392 [==============================] - 30s 158us/step - loss: 0.1092 - val_loss: 0.1097\n",
      "Epoch 3/20\n",
      "189392/189392 [==============================] - 30s 158us/step - loss: 0.1090 - val_loss: 0.1081\n",
      "Epoch 4/20\n",
      "189392/189392 [==============================] - 30s 159us/step - loss: 0.1088 - val_loss: 0.1080\n",
      "Epoch 5/20\n",
      "189392/189392 [==============================] - 30s 159us/step - loss: 0.1090 - val_loss: 0.1082\n",
      "Epoch 6/20\n",
      "189392/189392 [==============================] - 30s 158us/step - loss: 0.1089 - val_loss: 0.1082\n",
      "Epoch 7/20\n",
      "189392/189392 [==============================] - 30s 159us/step - loss: 0.1088 - val_loss: 0.1091\n",
      "Epoch 8/20\n",
      "189392/189392 [==============================] - 30s 159us/step - loss: 0.1087 - val_loss: 0.1085\n",
      "Epoch 9/20\n",
      "189392/189392 [==============================] - 30s 159us/step - loss: 0.1086 - val_loss: 0.1080\n",
      "Epoch 10/20\n",
      "189392/189392 [==============================] - 30s 159us/step - loss: 0.1086 - val_loss: 0.1082\n",
      "Epoch 11/20\n",
      "189392/189392 [==============================] - 30s 159us/step - loss: 0.1086 - val_loss: 0.1090\n",
      "Epoch 12/20\n",
      "189392/189392 [==============================] - 30s 158us/step - loss: 0.1086 - val_loss: 0.1082\n",
      "Epoch 13/20\n",
      "189392/189392 [==============================] - 30s 158us/step - loss: 0.1084 - val_loss: 0.1083\n",
      "Epoch 14/20\n",
      "189392/189392 [==============================] - 30s 159us/step - loss: 0.1084 - val_loss: 0.1083\n",
      "Epoch 15/20\n",
      "189392/189392 [==============================] - 30s 159us/step - loss: 0.1084 - val_loss: 0.1116\n",
      "Epoch 16/20\n",
      "189392/189392 [==============================] - 30s 158us/step - loss: 0.1084 - val_loss: 0.1080\n",
      "Epoch 17/20\n",
      "189392/189392 [==============================] - 30s 159us/step - loss: 0.1083 - val_loss: 0.1086\n",
      "Epoch 18/20\n",
      "189392/189392 [==============================] - 30s 159us/step - loss: 0.1083 - val_loss: 0.1082\n",
      "Epoch 19/20\n",
      "189392/189392 [==============================] - 30s 159us/step - loss: 0.1082 - val_loss: 0.1085\n",
      "Epoch 20/20\n",
      "189392/189392 [==============================] - 30s 159us/step - loss: 0.1082 - val_loss: 0.1085\n"
     ]
    }
   ],
   "source": [
    "model.load_weights('cnnbase.h5')\n",
    "history_ht = model.fit(ht_x_tr, ht_y_tr, epochs=20, batch_size=128,\n",
    "                validation_data=(ht_x_val,ht_y_val),verbose=1,\n",
    "                callbacks=callbacks)\n",
    "model.save_weights('cnnbase_ht_20e_128b.h5')"
   ]
  },
  {
   "cell_type": "code",
   "execution_count": 77,
   "metadata": {},
   "outputs": [
    {
     "data": {
      "image/png": "[encoded data removed]",
      "text/plain": [
       "<Figure size 432x288 with 1 Axes>"
      ]
     },
     "metadata": {
      "needs_background": "light"
     },
     "output_type": "display_data"
    }
   ],
   "source": [
    "plot_al(history_ht,'loss', 'ECal_E')"
   ]
  }
 ],
 "metadata": {
  "kernelspec": {
   "display_name": "Python 3",
   "language": "python",
   "name": "python3"
  },
  "language_info": {
   "codemirror_mode": {
    "name": "ipython",
    "version": 3
   },
   "file_extension": ".py",
   "mimetype": "text/x-python",
   "name": "python",
   "nbconvert_exporter": "python",
   "pygments_lexer": "ipython3",
   "version": "3.7.3"
  }
 },
 "nbformat": 4,
 "nbformat_minor": 2
}
